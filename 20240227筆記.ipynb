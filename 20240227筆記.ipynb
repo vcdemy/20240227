{
  "cells": [
    {
      "cell_type": "markdown",
      "metadata": {
        "id": "view-in-github",
        "colab_type": "text"
      },
      "source": [
        "<a href=\"https://colab.research.google.com/github/vcdemy/20240227/blob/main/20240227%E7%AD%86%E8%A8%98.ipynb\" target=\"_parent\"><img src=\"https://colab.research.google.com/assets/colab-badge.svg\" alt=\"Open In Colab\"/></a>"
      ]
    },
    {
      "cell_type": "markdown",
      "id": "dd76e46d-ea11-4aac-afed-42c894383dfe",
      "metadata": {
        "id": "dd76e46d-ea11-4aac-afed-42c894383dfe"
      },
      "source": [
        "# 20240227 筆記"
      ]
    },
    {
      "cell_type": "markdown",
      "id": "16de9d6d-f24a-4234-ba7e-ead4c6fd2174",
      "metadata": {
        "id": "16de9d6d-f24a-4234-ba7e-ead4c6fd2174"
      },
      "source": [
        "## 變數的命名"
      ]
    },
    {
      "cell_type": "markdown",
      "id": "0c7d54c4-6bb9-44b7-81b4-86cd2f58c7a4",
      "metadata": {
        "id": "0c7d54c4-6bb9-44b7-81b4-86cd2f58c7a4"
      },
      "source": [
        "* 變數名稱最好以英文字母或底線做開頭 (數字不能做開頭)\n",
        "  * \\_variable, variable, variable\\_\n",
        "* 除開頭字元外，其他字元使用數字、底線、或英文字母  \n",
        "  * \\_var123, var\\_123\n",
        "* 變數會區分大小寫\n",
        "* 避開關鍵字 (keywords)\n",
        "* 避開內建的物件 (built-in objects)"
      ]
    },
    {
      "cell_type": "code",
      "execution_count": null,
      "id": "464fa38e-5a3b-48b0-8438-89ad1ea53c84",
      "metadata": {
        "tags": [],
        "id": "464fa38e-5a3b-48b0-8438-89ad1ea53c84"
      },
      "outputs": [],
      "source": [
        "n = 1"
      ]
    },
    {
      "cell_type": "code",
      "execution_count": null,
      "id": "0d7a1e02-6aef-48e6-b084-7fd8ce6e7491",
      "metadata": {
        "tags": [],
        "id": "0d7a1e02-6aef-48e6-b084-7fd8ce6e7491",
        "outputId": "5169d67b-7e65-48c6-b18e-bb5cae8d9470"
      },
      "outputs": [
        {
          "data": {
            "text/plain": [
              "int"
            ]
          },
          "execution_count": 2,
          "metadata": {},
          "output_type": "execute_result"
        }
      ],
      "source": [
        "type(n)"
      ]
    },
    {
      "cell_type": "code",
      "execution_count": null,
      "id": "e3c4ec66-2b63-45e3-a935-1855f4b44226",
      "metadata": {
        "tags": [],
        "id": "e3c4ec66-2b63-45e3-a935-1855f4b44226"
      },
      "outputs": [],
      "source": [
        "# 變數可以使用底線做開頭\n",
        "_abc = 1"
      ]
    },
    {
      "cell_type": "code",
      "execution_count": null,
      "id": "1766ca2a-e3a1-47b6-9454-cb646f6f81a7",
      "metadata": {
        "tags": [],
        "id": "1766ca2a-e3a1-47b6-9454-cb646f6f81a7"
      },
      "outputs": [],
      "source": [
        "abc_ = 1"
      ]
    },
    {
      "cell_type": "code",
      "execution_count": null,
      "id": "4364cd76-91e1-42cc-9279-e3143d5caeaf",
      "metadata": {
        "tags": [],
        "id": "4364cd76-91e1-42cc-9279-e3143d5caeaf",
        "outputId": "92a1c1d3-9132-41af-ebf5-44e53bd79158"
      },
      "outputs": [
        {
          "ename": "SyntaxError",
          "evalue": "invalid decimal literal (2044820064.py, line 1)",
          "output_type": "error",
          "traceback": [
            "\u001b[1;36m  Cell \u001b[1;32mIn[5], line 1\u001b[1;36m\u001b[0m\n\u001b[1;33m    1abc = 1\u001b[0m\n\u001b[1;37m    ^\u001b[0m\n\u001b[1;31mSyntaxError\u001b[0m\u001b[1;31m:\u001b[0m invalid decimal literal\n"
          ]
        }
      ],
      "source": [
        "# 數字不可以作為變數的開頭\n",
        "1abc = 1"
      ]
    },
    {
      "cell_type": "code",
      "execution_count": null,
      "id": "eaeaa8fd-9cd6-451a-a3fa-27339a0fe670",
      "metadata": {
        "tags": [],
        "id": "eaeaa8fd-9cd6-451a-a3fa-27339a0fe670"
      },
      "outputs": [],
      "source": [
        "_1abc = 1"
      ]
    },
    {
      "cell_type": "code",
      "execution_count": null,
      "id": "d6073169-e88c-472d-94da-063fcc9bb680",
      "metadata": {
        "tags": [],
        "id": "d6073169-e88c-472d-94da-063fcc9bb680",
        "outputId": "5eeb3c46-bee6-4977-d4ea-7eb658ef2d3d"
      },
      "outputs": [
        {
          "ename": "NameError",
          "evalue": "name 'N' is not defined",
          "output_type": "error",
          "traceback": [
            "\u001b[1;31m----------------------------------------------------------\u001b[0m",
            "\u001b[1;31mNameError\u001b[0m                Traceback (most recent call last)",
            "Cell \u001b[1;32mIn[7], line 1\u001b[0m\n\u001b[1;32m----> 1\u001b[0m N\n",
            "\u001b[1;31mNameError\u001b[0m: name 'N' is not defined"
          ]
        }
      ],
      "source": [
        "# 變數會區分大小寫\n",
        "N"
      ]
    },
    {
      "cell_type": "code",
      "execution_count": null,
      "id": "7af4ce15-0135-4db3-b8d2-4ae581a14d65",
      "metadata": {
        "tags": [],
        "id": "7af4ce15-0135-4db3-b8d2-4ae581a14d65"
      },
      "outputs": [],
      "source": [
        "變數 = 1"
      ]
    },
    {
      "cell_type": "code",
      "execution_count": null,
      "id": "19928872-9709-4262-b83f-2f3ad243ae25",
      "metadata": {
        "tags": [],
        "id": "19928872-9709-4262-b83f-2f3ad243ae25",
        "outputId": "3bd324ac-d883-48f7-b122-8fdadb396d31"
      },
      "outputs": [
        {
          "data": {
            "text/plain": [
              "1"
            ]
          },
          "execution_count": 9,
          "metadata": {},
          "output_type": "execute_result"
        }
      ],
      "source": [
        "變數"
      ]
    },
    {
      "cell_type": "code",
      "execution_count": null,
      "id": "e6ce68b2-5776-44fb-a10c-6edf4bb3b688",
      "metadata": {
        "tags": [],
        "id": "e6ce68b2-5776-44fb-a10c-6edf4bb3b688",
        "outputId": "7f59c52f-3ecf-477b-d346-4f7a9a8877e8"
      },
      "outputs": [
        {
          "ename": "SyntaxError",
          "evalue": "invalid syntax (1069989890.py, line 1)",
          "output_type": "error",
          "traceback": [
            "\u001b[1;36m  Cell \u001b[1;32mIn[10], line 1\u001b[1;36m\u001b[0m\n\u001b[1;33m    for = 1\u001b[0m\n\u001b[1;37m        ^\u001b[0m\n\u001b[1;31mSyntaxError\u001b[0m\u001b[1;31m:\u001b[0m invalid syntax\n"
          ]
        }
      ],
      "source": [
        "for = 1"
      ]
    },
    {
      "cell_type": "markdown",
      "id": "3d2efb35-d94f-496e-93a8-28e9afe3be77",
      "metadata": {
        "id": "3d2efb35-d94f-496e-93a8-28e9afe3be77"
      },
      "source": [
        "## 基本資料型態"
      ]
    },
    {
      "cell_type": "markdown",
      "id": "e64fa54d-6eef-4bee-a836-45349ff52ebd",
      "metadata": {
        "id": "e64fa54d-6eef-4bee-a836-45349ff52ebd"
      },
      "source": [
        "* int\n",
        "* float\n",
        "* bool\n",
        "* str"
      ]
    },
    {
      "cell_type": "markdown",
      "id": "9dd52003-6b5d-4730-8b56-579696fdf633",
      "metadata": {
        "id": "9dd52003-6b5d-4730-8b56-579696fdf633"
      },
      "source": [
        "### int (整數)"
      ]
    },
    {
      "cell_type": "code",
      "execution_count": 5,
      "id": "2186f4ac-94e1-4c37-a03d-a5021c75d1f3",
      "metadata": {
        "tags": [],
        "id": "2186f4ac-94e1-4c37-a03d-a5021c75d1f3"
      },
      "outputs": [],
      "source": [
        "x = 1"
      ]
    },
    {
      "cell_type": "code",
      "execution_count": null,
      "id": "b426965a-f6bd-475c-9fbd-402fb1b84a02",
      "metadata": {
        "tags": [],
        "id": "b426965a-f6bd-475c-9fbd-402fb1b84a02",
        "outputId": "2cbb05e0-01a1-4532-a888-2c80398924ac"
      },
      "outputs": [
        {
          "data": {
            "text/plain": [
              "int"
            ]
          },
          "execution_count": 12,
          "metadata": {},
          "output_type": "execute_result"
        }
      ],
      "source": [
        "type(x)"
      ]
    },
    {
      "cell_type": "markdown",
      "id": "46934210-3f8b-4fbc-afed-f424e1de1247",
      "metadata": {
        "id": "46934210-3f8b-4fbc-afed-f424e1de1247"
      },
      "source": [
        "### float (浮點數)"
      ]
    },
    {
      "cell_type": "code",
      "execution_count": 6,
      "id": "8f0d3c0c-2b98-4909-b2d2-40624eb0260f",
      "metadata": {
        "tags": [],
        "id": "8f0d3c0c-2b98-4909-b2d2-40624eb0260f"
      },
      "outputs": [],
      "source": [
        "y = 3.14"
      ]
    },
    {
      "cell_type": "code",
      "execution_count": null,
      "id": "174ac4e8-e18b-4265-a859-42eeefd0029e",
      "metadata": {
        "tags": [],
        "id": "174ac4e8-e18b-4265-a859-42eeefd0029e",
        "outputId": "424d2fd2-3c61-4b4a-def7-41acaa2b645f"
      },
      "outputs": [
        {
          "data": {
            "text/plain": [
              "float"
            ]
          },
          "execution_count": 14,
          "metadata": {},
          "output_type": "execute_result"
        }
      ],
      "source": [
        "type(y)"
      ]
    },
    {
      "cell_type": "markdown",
      "id": "b386c4f3-b729-4504-baf4-51ad0a131a1a",
      "metadata": {
        "id": "b386c4f3-b729-4504-baf4-51ad0a131a1a"
      },
      "source": [
        "#### 整數除法"
      ]
    },
    {
      "cell_type": "code",
      "execution_count": null,
      "id": "5ae4566f-a6df-43c6-9105-72cdd10b4a10",
      "metadata": {
        "tags": [],
        "id": "5ae4566f-a6df-43c6-9105-72cdd10b4a10",
        "outputId": "0b0cc222-3761-44c1-cccd-6d6ee9577208"
      },
      "outputs": [
        {
          "data": {
            "text/plain": [
              "int"
            ]
          },
          "execution_count": 15,
          "metadata": {},
          "output_type": "execute_result"
        }
      ],
      "source": [
        "type(4)"
      ]
    },
    {
      "cell_type": "code",
      "execution_count": null,
      "id": "0e0da044-8b8b-4f86-a98e-2b74e0f41645",
      "metadata": {
        "tags": [],
        "id": "0e0da044-8b8b-4f86-a98e-2b74e0f41645",
        "outputId": "30d9087a-0fbe-44f7-fa57-769258e930c3"
      },
      "outputs": [
        {
          "data": {
            "text/plain": [
              "float"
            ]
          },
          "execution_count": 16,
          "metadata": {},
          "output_type": "execute_result"
        }
      ],
      "source": [
        "type(4 / 2)"
      ]
    },
    {
      "cell_type": "code",
      "execution_count": null,
      "id": "419476d3-a1a4-4b80-9106-1de0b46e2bdf",
      "metadata": {
        "tags": [],
        "id": "419476d3-a1a4-4b80-9106-1de0b46e2bdf",
        "outputId": "17128d5f-3b9f-4011-faf3-fbce83a6c8d1"
      },
      "outputs": [
        {
          "data": {
            "text/plain": [
              "2.0"
            ]
          },
          "execution_count": 17,
          "metadata": {},
          "output_type": "execute_result"
        }
      ],
      "source": [
        "4 / 2"
      ]
    },
    {
      "cell_type": "code",
      "execution_count": null,
      "id": "26953f44-eaff-4c27-94cd-8fe62b15f39d",
      "metadata": {
        "tags": [],
        "id": "26953f44-eaff-4c27-94cd-8fe62b15f39d",
        "outputId": "f86de489-e0f2-4f47-ab05-67559e250799"
      },
      "outputs": [
        {
          "data": {
            "text/plain": [
              "2"
            ]
          },
          "execution_count": 18,
          "metadata": {},
          "output_type": "execute_result"
        }
      ],
      "source": [
        "4 // 2"
      ]
    },
    {
      "cell_type": "code",
      "execution_count": null,
      "id": "d613d40b-455a-4e5c-9341-ef59d62860ea",
      "metadata": {
        "tags": [],
        "id": "d613d40b-455a-4e5c-9341-ef59d62860ea",
        "outputId": "f28e1ace-200b-4ed8-99c8-46e8664129f8"
      },
      "outputs": [
        {
          "data": {
            "text/plain": [
              "int"
            ]
          },
          "execution_count": 19,
          "metadata": {},
          "output_type": "execute_result"
        }
      ],
      "source": [
        "type(4 // 2)"
      ]
    },
    {
      "cell_type": "markdown",
      "source": [
        "### bool (布林變數)"
      ],
      "metadata": {
        "id": "z9PPwahDGtw5"
      },
      "id": "z9PPwahDGtw5"
    },
    {
      "cell_type": "code",
      "execution_count": 1,
      "id": "a754b794-806e-4505-a212-bf5751a249f5",
      "metadata": {
        "colab": {
          "base_uri": "https://localhost:8080/"
        },
        "id": "a754b794-806e-4505-a212-bf5751a249f5",
        "outputId": "c7eb7ca5-ee68-4f9e-f239-80ce22a3d4dc"
      },
      "outputs": [
        {
          "output_type": "execute_result",
          "data": {
            "text/plain": [
              "True"
            ]
          },
          "metadata": {},
          "execution_count": 1
        }
      ],
      "source": [
        "3 > 2"
      ]
    },
    {
      "cell_type": "code",
      "source": [
        "z = 3 > 2"
      ],
      "metadata": {
        "id": "ZEjhScbpHA2X"
      },
      "id": "ZEjhScbpHA2X",
      "execution_count": 2,
      "outputs": []
    },
    {
      "cell_type": "code",
      "source": [
        "type(z)"
      ],
      "metadata": {
        "colab": {
          "base_uri": "https://localhost:8080/"
        },
        "id": "HVmhtQieHMbp",
        "outputId": "9518370b-6c82-4516-f06e-8f96903c229b"
      },
      "id": "HVmhtQieHMbp",
      "execution_count": 3,
      "outputs": [
        {
          "output_type": "execute_result",
          "data": {
            "text/plain": [
              "bool"
            ]
          },
          "metadata": {},
          "execution_count": 3
        }
      ]
    },
    {
      "cell_type": "code",
      "source": [
        "x == y"
      ],
      "metadata": {
        "colab": {
          "base_uri": "https://localhost:8080/"
        },
        "id": "glBi1rzFHN2A",
        "outputId": "538c8c98-ac4c-44c7-eb91-c0d22e8d7aad"
      },
      "id": "glBi1rzFHN2A",
      "execution_count": 7,
      "outputs": [
        {
          "output_type": "execute_result",
          "data": {
            "text/plain": [
              "False"
            ]
          },
          "metadata": {},
          "execution_count": 7
        }
      ]
    },
    {
      "cell_type": "code",
      "source": [
        "z = x == y"
      ],
      "metadata": {
        "id": "SRCnZcKmHdd5"
      },
      "id": "SRCnZcKmHdd5",
      "execution_count": 8,
      "outputs": []
    },
    {
      "cell_type": "code",
      "source": [
        "type(z)"
      ],
      "metadata": {
        "colab": {
          "base_uri": "https://localhost:8080/"
        },
        "id": "a4cXuesUHo4j",
        "outputId": "8e992b44-6245-4b6b-dcb8-6cf32c977242"
      },
      "id": "a4cXuesUHo4j",
      "execution_count": 9,
      "outputs": [
        {
          "output_type": "execute_result",
          "data": {
            "text/plain": [
              "bool"
            ]
          },
          "metadata": {},
          "execution_count": 9
        }
      ]
    },
    {
      "cell_type": "code",
      "source": [],
      "metadata": {
        "id": "dzACugqpHrDH"
      },
      "id": "dzACugqpHrDH",
      "execution_count": null,
      "outputs": []
    }
  ],
  "metadata": {
    "kernelspec": {
      "display_name": "Python 3 (ipykernel)",
      "language": "python",
      "name": "python3"
    },
    "language_info": {
      "codemirror_mode": {
        "name": "ipython",
        "version": 3
      },
      "file_extension": ".py",
      "mimetype": "text/x-python",
      "name": "python",
      "nbconvert_exporter": "python",
      "pygments_lexer": "ipython3",
      "version": "3.11.5"
    },
    "colab": {
      "provenance": [],
      "include_colab_link": true
    }
  },
  "nbformat": 4,
  "nbformat_minor": 5
}