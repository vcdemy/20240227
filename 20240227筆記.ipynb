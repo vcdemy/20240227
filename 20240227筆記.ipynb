{
  "cells": [
    {
      "cell_type": "markdown",
      "id": "dd76e46d-ea11-4aac-afed-42c894383dfe",
      "metadata": {
        "id": "dd76e46d-ea11-4aac-afed-42c894383dfe"
      },
      "source": [
        "# 20240227 筆記"
      ]
    },
    {
      "cell_type": "markdown",
      "id": "16de9d6d-f24a-4234-ba7e-ead4c6fd2174",
      "metadata": {
        "id": "16de9d6d-f24a-4234-ba7e-ead4c6fd2174"
      },
      "source": [
        "## 變數的命名"
      ]
    },
    {
      "cell_type": "markdown",
      "id": "0c7d54c4-6bb9-44b7-81b4-86cd2f58c7a4",
      "metadata": {
        "id": "0c7d54c4-6bb9-44b7-81b4-86cd2f58c7a4"
      },
      "source": [
        "* 變數名稱最好以英文字母或底線做開頭 (數字不能做開頭)\n",
        "  * \\_variable, variable, variable\\_\n",
        "* 除開頭字元外，其他字元使用數字、底線、或英文字母  \n",
        "  * \\_var123, var\\_123\n",
        "* 變數會區分大小寫\n",
        "* 避開關鍵字 (keywords)\n",
        "* 避開內建的物件 (built-in objects)"
      ]
    },
    {
      "cell_type": "code",
      "execution_count": 13,
      "id": "464fa38e-5a3b-48b0-8438-89ad1ea53c84",
      "metadata": {
        "tags": [],
        "id": "464fa38e-5a3b-48b0-8438-89ad1ea53c84"
      },
      "outputs": [],
      "source": [
        "n = 1"
      ]
    },
    {
      "cell_type": "code",
      "execution_count": 14,
      "id": "0d7a1e02-6aef-48e6-b084-7fd8ce6e7491",
      "metadata": {
        "tags": [],
        "colab": {
          "base_uri": "https://localhost:8080/"
        },
        "id": "0d7a1e02-6aef-48e6-b084-7fd8ce6e7491",
        "outputId": "3bbd26f4-9a5c-4cda-8213-a81a5b2edd97"
      },
      "outputs": [
        {
          "output_type": "execute_result",
          "data": {
            "text/plain": [
              "int"
            ]
          },
          "metadata": {},
          "execution_count": 14
        }
      ],
      "source": [
        "type(n)"
      ]
    },
    {
      "cell_type": "code",
      "execution_count": 15,
      "id": "e3c4ec66-2b63-45e3-a935-1855f4b44226",
      "metadata": {
        "tags": [],
        "id": "e3c4ec66-2b63-45e3-a935-1855f4b44226"
      },
      "outputs": [],
      "source": [
        "# 變數可以使用底線做開頭\n",
        "_abc = 1"
      ]
    },
    {
      "cell_type": "code",
      "execution_count": 16,
      "id": "1766ca2a-e3a1-47b6-9454-cb646f6f81a7",
      "metadata": {
        "tags": [],
        "id": "1766ca2a-e3a1-47b6-9454-cb646f6f81a7"
      },
      "outputs": [],
      "source": [
        "abc_ = 1"
      ]
    },
    {
      "cell_type": "code",
      "execution_count": null,
      "id": "4364cd76-91e1-42cc-9279-e3143d5caeaf",
      "metadata": {
        "tags": [],
        "id": "4364cd76-91e1-42cc-9279-e3143d5caeaf",
        "outputId": "92a1c1d3-9132-41af-ebf5-44e53bd79158"
      },
      "outputs": [
        {
          "ename": "SyntaxError",
          "evalue": "invalid decimal literal (2044820064.py, line 1)",
          "output_type": "error",
          "traceback": [
            "\u001b[1;36m  Cell \u001b[1;32mIn[5], line 1\u001b[1;36m\u001b[0m\n\u001b[1;33m    1abc = 1\u001b[0m\n\u001b[1;37m    ^\u001b[0m\n\u001b[1;31mSyntaxError\u001b[0m\u001b[1;31m:\u001b[0m invalid decimal literal\n"
          ]
        }
      ],
      "source": [
        "# 數字不可以作為變數的開頭\n",
        "1abc = 1"
      ]
    },
    {
      "cell_type": "code",
      "execution_count": null,
      "id": "eaeaa8fd-9cd6-451a-a3fa-27339a0fe670",
      "metadata": {
        "tags": [],
        "id": "eaeaa8fd-9cd6-451a-a3fa-27339a0fe670"
      },
      "outputs": [],
      "source": [
        "_1abc = 1"
      ]
    },
    {
      "cell_type": "code",
      "execution_count": null,
      "id": "d6073169-e88c-472d-94da-063fcc9bb680",
      "metadata": {
        "tags": [],
        "id": "d6073169-e88c-472d-94da-063fcc9bb680",
        "outputId": "5eeb3c46-bee6-4977-d4ea-7eb658ef2d3d"
      },
      "outputs": [
        {
          "ename": "NameError",
          "evalue": "name 'N' is not defined",
          "output_type": "error",
          "traceback": [
            "\u001b[1;31m----------------------------------------------------------\u001b[0m",
            "\u001b[1;31mNameError\u001b[0m                Traceback (most recent call last)",
            "Cell \u001b[1;32mIn[7], line 1\u001b[0m\n\u001b[1;32m----> 1\u001b[0m N\n",
            "\u001b[1;31mNameError\u001b[0m: name 'N' is not defined"
          ]
        }
      ],
      "source": [
        "# 變數會區分大小寫\n",
        "N"
      ]
    },
    {
      "cell_type": "code",
      "execution_count": null,
      "id": "7af4ce15-0135-4db3-b8d2-4ae581a14d65",
      "metadata": {
        "tags": [],
        "id": "7af4ce15-0135-4db3-b8d2-4ae581a14d65"
      },
      "outputs": [],
      "source": [
        "變數 = 1"
      ]
    },
    {
      "cell_type": "code",
      "execution_count": null,
      "id": "19928872-9709-4262-b83f-2f3ad243ae25",
      "metadata": {
        "tags": [],
        "id": "19928872-9709-4262-b83f-2f3ad243ae25",
        "outputId": "3bd324ac-d883-48f7-b122-8fdadb396d31"
      },
      "outputs": [
        {
          "data": {
            "text/plain": [
              "1"
            ]
          },
          "execution_count": 9,
          "metadata": {},
          "output_type": "execute_result"
        }
      ],
      "source": [
        "變數"
      ]
    },
    {
      "cell_type": "code",
      "execution_count": null,
      "id": "e6ce68b2-5776-44fb-a10c-6edf4bb3b688",
      "metadata": {
        "tags": [],
        "id": "e6ce68b2-5776-44fb-a10c-6edf4bb3b688",
        "outputId": "7f59c52f-3ecf-477b-d346-4f7a9a8877e8"
      },
      "outputs": [
        {
          "ename": "SyntaxError",
          "evalue": "invalid syntax (1069989890.py, line 1)",
          "output_type": "error",
          "traceback": [
            "\u001b[1;36m  Cell \u001b[1;32mIn[10], line 1\u001b[1;36m\u001b[0m\n\u001b[1;33m    for = 1\u001b[0m\n\u001b[1;37m        ^\u001b[0m\n\u001b[1;31mSyntaxError\u001b[0m\u001b[1;31m:\u001b[0m invalid syntax\n"
          ]
        }
      ],
      "source": [
        "for = 1"
      ]
    },
    {
      "cell_type": "markdown",
      "id": "3d2efb35-d94f-496e-93a8-28e9afe3be77",
      "metadata": {
        "id": "3d2efb35-d94f-496e-93a8-28e9afe3be77"
      },
      "source": [
        "## 基本資料型態"
      ]
    },
    {
      "cell_type": "markdown",
      "id": "e64fa54d-6eef-4bee-a836-45349ff52ebd",
      "metadata": {
        "id": "e64fa54d-6eef-4bee-a836-45349ff52ebd"
      },
      "source": [
        "* int\n",
        "* float\n",
        "* bool\n",
        "* str"
      ]
    },
    {
      "cell_type": "markdown",
      "id": "9dd52003-6b5d-4730-8b56-579696fdf633",
      "metadata": {
        "id": "9dd52003-6b5d-4730-8b56-579696fdf633"
      },
      "source": [
        "### int (整數)"
      ]
    },
    {
      "cell_type": "code",
      "execution_count": 5,
      "id": "2186f4ac-94e1-4c37-a03d-a5021c75d1f3",
      "metadata": {
        "tags": [],
        "id": "2186f4ac-94e1-4c37-a03d-a5021c75d1f3"
      },
      "outputs": [],
      "source": [
        "x = 1"
      ]
    },
    {
      "cell_type": "code",
      "execution_count": null,
      "id": "b426965a-f6bd-475c-9fbd-402fb1b84a02",
      "metadata": {
        "tags": [],
        "id": "b426965a-f6bd-475c-9fbd-402fb1b84a02",
        "outputId": "2cbb05e0-01a1-4532-a888-2c80398924ac"
      },
      "outputs": [
        {
          "data": {
            "text/plain": [
              "int"
            ]
          },
          "execution_count": 12,
          "metadata": {},
          "output_type": "execute_result"
        }
      ],
      "source": [
        "type(x)"
      ]
    },
    {
      "cell_type": "markdown",
      "id": "46934210-3f8b-4fbc-afed-f424e1de1247",
      "metadata": {
        "id": "46934210-3f8b-4fbc-afed-f424e1de1247"
      },
      "source": [
        "### float (浮點數)"
      ]
    },
    {
      "cell_type": "code",
      "execution_count": 6,
      "id": "8f0d3c0c-2b98-4909-b2d2-40624eb0260f",
      "metadata": {
        "tags": [],
        "id": "8f0d3c0c-2b98-4909-b2d2-40624eb0260f"
      },
      "outputs": [],
      "source": [
        "y = 3.14"
      ]
    },
    {
      "cell_type": "code",
      "execution_count": null,
      "id": "174ac4e8-e18b-4265-a859-42eeefd0029e",
      "metadata": {
        "tags": [],
        "id": "174ac4e8-e18b-4265-a859-42eeefd0029e",
        "outputId": "424d2fd2-3c61-4b4a-def7-41acaa2b645f"
      },
      "outputs": [
        {
          "data": {
            "text/plain": [
              "float"
            ]
          },
          "execution_count": 14,
          "metadata": {},
          "output_type": "execute_result"
        }
      ],
      "source": [
        "type(y)"
      ]
    },
    {
      "cell_type": "markdown",
      "id": "b386c4f3-b729-4504-baf4-51ad0a131a1a",
      "metadata": {
        "id": "b386c4f3-b729-4504-baf4-51ad0a131a1a"
      },
      "source": [
        "#### 整數除法"
      ]
    },
    {
      "cell_type": "code",
      "execution_count": null,
      "id": "5ae4566f-a6df-43c6-9105-72cdd10b4a10",
      "metadata": {
        "tags": [],
        "id": "5ae4566f-a6df-43c6-9105-72cdd10b4a10",
        "outputId": "0b0cc222-3761-44c1-cccd-6d6ee9577208"
      },
      "outputs": [
        {
          "data": {
            "text/plain": [
              "int"
            ]
          },
          "execution_count": 15,
          "metadata": {},
          "output_type": "execute_result"
        }
      ],
      "source": [
        "type(4)"
      ]
    },
    {
      "cell_type": "code",
      "execution_count": null,
      "id": "0e0da044-8b8b-4f86-a98e-2b74e0f41645",
      "metadata": {
        "tags": [],
        "id": "0e0da044-8b8b-4f86-a98e-2b74e0f41645",
        "outputId": "30d9087a-0fbe-44f7-fa57-769258e930c3"
      },
      "outputs": [
        {
          "data": {
            "text/plain": [
              "float"
            ]
          },
          "execution_count": 16,
          "metadata": {},
          "output_type": "execute_result"
        }
      ],
      "source": [
        "type(4 / 2)"
      ]
    },
    {
      "cell_type": "code",
      "execution_count": null,
      "id": "419476d3-a1a4-4b80-9106-1de0b46e2bdf",
      "metadata": {
        "tags": [],
        "id": "419476d3-a1a4-4b80-9106-1de0b46e2bdf",
        "outputId": "17128d5f-3b9f-4011-faf3-fbce83a6c8d1"
      },
      "outputs": [
        {
          "data": {
            "text/plain": [
              "2.0"
            ]
          },
          "execution_count": 17,
          "metadata": {},
          "output_type": "execute_result"
        }
      ],
      "source": [
        "4 / 2"
      ]
    },
    {
      "cell_type": "code",
      "execution_count": null,
      "id": "26953f44-eaff-4c27-94cd-8fe62b15f39d",
      "metadata": {
        "tags": [],
        "id": "26953f44-eaff-4c27-94cd-8fe62b15f39d",
        "outputId": "f86de489-e0f2-4f47-ab05-67559e250799"
      },
      "outputs": [
        {
          "data": {
            "text/plain": [
              "2"
            ]
          },
          "execution_count": 18,
          "metadata": {},
          "output_type": "execute_result"
        }
      ],
      "source": [
        "4 // 2"
      ]
    },
    {
      "cell_type": "code",
      "execution_count": null,
      "id": "d613d40b-455a-4e5c-9341-ef59d62860ea",
      "metadata": {
        "tags": [],
        "id": "d613d40b-455a-4e5c-9341-ef59d62860ea",
        "outputId": "f28e1ace-200b-4ed8-99c8-46e8664129f8"
      },
      "outputs": [
        {
          "data": {
            "text/plain": [
              "int"
            ]
          },
          "execution_count": 19,
          "metadata": {},
          "output_type": "execute_result"
        }
      ],
      "source": [
        "type(4 // 2)"
      ]
    },
    {
      "cell_type": "markdown",
      "source": [
        "### bool (布林變數)"
      ],
      "metadata": {
        "id": "z9PPwahDGtw5"
      },
      "id": "z9PPwahDGtw5"
    },
    {
      "cell_type": "code",
      "execution_count": 1,
      "id": "a754b794-806e-4505-a212-bf5751a249f5",
      "metadata": {
        "colab": {
          "base_uri": "https://localhost:8080/"
        },
        "id": "a754b794-806e-4505-a212-bf5751a249f5",
        "outputId": "c7eb7ca5-ee68-4f9e-f239-80ce22a3d4dc"
      },
      "outputs": [
        {
          "output_type": "execute_result",
          "data": {
            "text/plain": [
              "True"
            ]
          },
          "metadata": {},
          "execution_count": 1
        }
      ],
      "source": [
        "3 > 2"
      ]
    },
    {
      "cell_type": "code",
      "source": [
        "z = 3 > 2"
      ],
      "metadata": {
        "id": "ZEjhScbpHA2X"
      },
      "id": "ZEjhScbpHA2X",
      "execution_count": 2,
      "outputs": []
    },
    {
      "cell_type": "code",
      "source": [
        "type(z)"
      ],
      "metadata": {
        "colab": {
          "base_uri": "https://localhost:8080/"
        },
        "id": "HVmhtQieHMbp",
        "outputId": "9518370b-6c82-4516-f06e-8f96903c229b"
      },
      "id": "HVmhtQieHMbp",
      "execution_count": 3,
      "outputs": [
        {
          "output_type": "execute_result",
          "data": {
            "text/plain": [
              "bool"
            ]
          },
          "metadata": {},
          "execution_count": 3
        }
      ]
    },
    {
      "cell_type": "code",
      "source": [
        "x == y"
      ],
      "metadata": {
        "colab": {
          "base_uri": "https://localhost:8080/"
        },
        "id": "glBi1rzFHN2A",
        "outputId": "538c8c98-ac4c-44c7-eb91-c0d22e8d7aad"
      },
      "id": "glBi1rzFHN2A",
      "execution_count": 7,
      "outputs": [
        {
          "output_type": "execute_result",
          "data": {
            "text/plain": [
              "False"
            ]
          },
          "metadata": {},
          "execution_count": 7
        }
      ]
    },
    {
      "cell_type": "code",
      "source": [
        "z = x == y"
      ],
      "metadata": {
        "id": "SRCnZcKmHdd5"
      },
      "id": "SRCnZcKmHdd5",
      "execution_count": 8,
      "outputs": []
    },
    {
      "cell_type": "code",
      "source": [
        "type(z)"
      ],
      "metadata": {
        "colab": {
          "base_uri": "https://localhost:8080/"
        },
        "id": "a4cXuesUHo4j",
        "outputId": "8e992b44-6245-4b6b-dcb8-6cf32c977242"
      },
      "id": "a4cXuesUHo4j",
      "execution_count": 9,
      "outputs": [
        {
          "output_type": "execute_result",
          "data": {
            "text/plain": [
              "bool"
            ]
          },
          "metadata": {},
          "execution_count": 9
        }
      ]
    },
    {
      "cell_type": "markdown",
      "source": [
        "### str (字串) => 文字訊息"
      ],
      "metadata": {
        "id": "LtzU53MpIPcI"
      },
      "id": "LtzU53MpIPcI"
    },
    {
      "cell_type": "code",
      "source": [
        "m = dog"
      ],
      "metadata": {
        "colab": {
          "base_uri": "https://localhost:8080/",
          "height": 144
        },
        "id": "dzACugqpHrDH",
        "outputId": "6a4917f0-31a0-4b30-e97a-1d01856f3087"
      },
      "id": "dzACugqpHrDH",
      "execution_count": 10,
      "outputs": [
        {
          "output_type": "error",
          "ename": "NameError",
          "evalue": "name 'dog' is not defined",
          "traceback": [
            "\u001b[0;31m---------------------------------------------------------------------------\u001b[0m",
            "\u001b[0;31mNameError\u001b[0m                                 Traceback (most recent call last)",
            "\u001b[0;32m<ipython-input-10-0f7e55f5d78a>\u001b[0m in \u001b[0;36m<cell line: 1>\u001b[0;34m()\u001b[0m\n\u001b[0;32m----> 1\u001b[0;31m \u001b[0mm\u001b[0m \u001b[0;34m=\u001b[0m \u001b[0mdog\u001b[0m\u001b[0;34m\u001b[0m\u001b[0;34m\u001b[0m\u001b[0m\n\u001b[0m",
            "\u001b[0;31mNameError\u001b[0m: name 'dog' is not defined"
          ]
        }
      ]
    },
    {
      "cell_type": "code",
      "source": [
        "m = \"dog\""
      ],
      "metadata": {
        "id": "P3WQYyxQIXka"
      },
      "id": "P3WQYyxQIXka",
      "execution_count": 11,
      "outputs": []
    },
    {
      "cell_type": "code",
      "source": [
        "type(m)"
      ],
      "metadata": {
        "colab": {
          "base_uri": "https://localhost:8080/"
        },
        "id": "wZt5BRCTIlc7",
        "outputId": "b2875bd6-be65-4b8a-bc78-f207a011c982"
      },
      "id": "wZt5BRCTIlc7",
      "execution_count": 12,
      "outputs": [
        {
          "output_type": "execute_result",
          "data": {
            "text/plain": [
              "str"
            ]
          },
          "metadata": {},
          "execution_count": 12
        }
      ]
    },
    {
      "cell_type": "code",
      "source": [
        "print(type(m))"
      ],
      "metadata": {
        "colab": {
          "base_uri": "https://localhost:8080/"
        },
        "id": "Cb-M8p4TImhz",
        "outputId": "6d03f691-6eba-43c0-a34b-1f161e32e519"
      },
      "id": "Cb-M8p4TImhz",
      "execution_count": 19,
      "outputs": [
        {
          "output_type": "stream",
          "name": "stdout",
          "text": [
            "<class 'str'>\n"
          ]
        }
      ]
    },
    {
      "cell_type": "markdown",
      "source": [
        "## 基本容器型別"
      ],
      "metadata": {
        "id": "puoo0bt3SVLj"
      },
      "id": "puoo0bt3SVLj"
    },
    {
      "cell_type": "markdown",
      "source": [
        "* list\n",
        "* tuple\n",
        "* dict\n",
        "* set"
      ],
      "metadata": {
        "id": "zpjFQzSGSXmP"
      },
      "id": "zpjFQzSGSXmP"
    },
    {
      "cell_type": "markdown",
      "source": [
        "### list"
      ],
      "metadata": {
        "id": "0N543T5USbii"
      },
      "id": "0N543T5USbii"
    },
    {
      "cell_type": "code",
      "source": [
        "x = ['a', 'b', 'c', 'd', 'e']"
      ],
      "metadata": {
        "id": "8jLqqSTrMy1N"
      },
      "id": "8jLqqSTrMy1N",
      "execution_count": 20,
      "outputs": []
    },
    {
      "cell_type": "code",
      "source": [
        "x"
      ],
      "metadata": {
        "colab": {
          "base_uri": "https://localhost:8080/"
        },
        "id": "QoqLL4vbShf1",
        "outputId": "31127aa1-c19c-4c42-cbaf-5c5dfec4f9c5"
      },
      "id": "QoqLL4vbShf1",
      "execution_count": 21,
      "outputs": [
        {
          "output_type": "execute_result",
          "data": {
            "text/plain": [
              "['a', 'b', 'c', 'd', 'e']"
            ]
          },
          "metadata": {},
          "execution_count": 21
        }
      ]
    },
    {
      "cell_type": "code",
      "source": [
        "type(x)"
      ],
      "metadata": {
        "colab": {
          "base_uri": "https://localhost:8080/"
        },
        "id": "rxXnmdmISiFi",
        "outputId": "c204fc5a-1d9f-42b0-9fca-8a5a0e7e870a"
      },
      "id": "rxXnmdmISiFi",
      "execution_count": 22,
      "outputs": [
        {
          "output_type": "execute_result",
          "data": {
            "text/plain": [
              "list"
            ]
          },
          "metadata": {},
          "execution_count": 22
        }
      ]
    },
    {
      "cell_type": "code",
      "source": [
        "y = list('abcde')"
      ],
      "metadata": {
        "id": "PVTpj31RSjwU"
      },
      "id": "PVTpj31RSjwU",
      "execution_count": 23,
      "outputs": []
    },
    {
      "cell_type": "code",
      "source": [
        "y"
      ],
      "metadata": {
        "colab": {
          "base_uri": "https://localhost:8080/"
        },
        "id": "-7PDE6rUS-vi",
        "outputId": "928066ac-1857-42f2-e1eb-861aee796fcd"
      },
      "id": "-7PDE6rUS-vi",
      "execution_count": 24,
      "outputs": [
        {
          "output_type": "execute_result",
          "data": {
            "text/plain": [
              "['a', 'b', 'c', 'd', 'e']"
            ]
          },
          "metadata": {},
          "execution_count": 24
        }
      ]
    },
    {
      "cell_type": "code",
      "source": [
        "x[0]"
      ],
      "metadata": {
        "colab": {
          "base_uri": "https://localhost:8080/",
          "height": 36
        },
        "id": "PZlr26UgS_NB",
        "outputId": "f6976008-4351-4930-b827-973e6f2d0c79"
      },
      "id": "PZlr26UgS_NB",
      "execution_count": 26,
      "outputs": [
        {
          "output_type": "execute_result",
          "data": {
            "text/plain": [
              "'a'"
            ],
            "application/vnd.google.colaboratory.intrinsic+json": {
              "type": "string"
            }
          },
          "metadata": {},
          "execution_count": 26
        }
      ]
    },
    {
      "cell_type": "code",
      "source": [
        "print(x[0])"
      ],
      "metadata": {
        "colab": {
          "base_uri": "https://localhost:8080/"
        },
        "id": "6m_BUe6fTSqB",
        "outputId": "73ac4a6e-9071-4970-8eda-7eefecb60f20"
      },
      "id": "6m_BUe6fTSqB",
      "execution_count": 27,
      "outputs": [
        {
          "output_type": "stream",
          "name": "stdout",
          "text": [
            "a\n"
          ]
        }
      ]
    },
    {
      "cell_type": "code",
      "source": [
        "x[-1]"
      ],
      "metadata": {
        "colab": {
          "base_uri": "https://localhost:8080/",
          "height": 36
        },
        "id": "PjoZlksBTcVm",
        "outputId": "330f7fb6-8877-4822-eca5-d32639d1a935"
      },
      "id": "PjoZlksBTcVm",
      "execution_count": 28,
      "outputs": [
        {
          "output_type": "execute_result",
          "data": {
            "text/plain": [
              "'e'"
            ],
            "application/vnd.google.colaboratory.intrinsic+json": {
              "type": "string"
            }
          },
          "metadata": {},
          "execution_count": 28
        }
      ]
    },
    {
      "cell_type": "code",
      "source": [
        "x[1:3]"
      ],
      "metadata": {
        "colab": {
          "base_uri": "https://localhost:8080/"
        },
        "id": "1f4WqhBfThRC",
        "outputId": "c72f2659-efb9-49cc-9d8e-a116987b5650"
      },
      "id": "1f4WqhBfThRC",
      "execution_count": 29,
      "outputs": [
        {
          "output_type": "execute_result",
          "data": {
            "text/plain": [
              "['b', 'c']"
            ]
          },
          "metadata": {},
          "execution_count": 29
        }
      ]
    },
    {
      "cell_type": "code",
      "source": [
        "x[:3]"
      ],
      "metadata": {
        "colab": {
          "base_uri": "https://localhost:8080/"
        },
        "id": "M-_avhPNTi6B",
        "outputId": "053c4233-1680-4d28-b51d-92e37dfd49df"
      },
      "id": "M-_avhPNTi6B",
      "execution_count": 30,
      "outputs": [
        {
          "output_type": "execute_result",
          "data": {
            "text/plain": [
              "['a', 'b', 'c']"
            ]
          },
          "metadata": {},
          "execution_count": 30
        }
      ]
    },
    {
      "cell_type": "code",
      "source": [
        "x[-3:]"
      ],
      "metadata": {
        "colab": {
          "base_uri": "https://localhost:8080/"
        },
        "id": "av12bMTwTzfh",
        "outputId": "8fc23813-0c59-4876-9ad5-30ebabcdb8b8"
      },
      "id": "av12bMTwTzfh",
      "execution_count": 31,
      "outputs": [
        {
          "output_type": "execute_result",
          "data": {
            "text/plain": [
              "['c', 'd', 'e']"
            ]
          },
          "metadata": {},
          "execution_count": 31
        }
      ]
    },
    {
      "cell_type": "code",
      "source": [
        "x = [1, 2]\n",
        "y = [3, 4]"
      ],
      "metadata": {
        "id": "k4e9n3wvT0fH"
      },
      "id": "k4e9n3wvT0fH",
      "execution_count": 32,
      "outputs": []
    },
    {
      "cell_type": "code",
      "source": [
        "x + y"
      ],
      "metadata": {
        "colab": {
          "base_uri": "https://localhost:8080/"
        },
        "id": "JuZXHfiiUIp-",
        "outputId": "67378bed-8f89-479e-94b5-b41ad216783b"
      },
      "id": "JuZXHfiiUIp-",
      "execution_count": 33,
      "outputs": [
        {
          "output_type": "execute_result",
          "data": {
            "text/plain": [
              "[1, 2, 3, 4]"
            ]
          },
          "metadata": {},
          "execution_count": 33
        }
      ]
    },
    {
      "cell_type": "code",
      "source": [
        "x * 2"
      ],
      "metadata": {
        "colab": {
          "base_uri": "https://localhost:8080/"
        },
        "id": "g-W5BAmgURyn",
        "outputId": "e95af0cb-a26e-4ff0-b64b-72b6fef9d3eb"
      },
      "id": "g-W5BAmgURyn",
      "execution_count": 34,
      "outputs": [
        {
          "output_type": "execute_result",
          "data": {
            "text/plain": [
              "[1, 2, 1, 2]"
            ]
          },
          "metadata": {},
          "execution_count": 34
        }
      ]
    },
    {
      "cell_type": "markdown",
      "source": [
        "### tuple"
      ],
      "metadata": {
        "id": "24Fsah1tUsLQ"
      },
      "id": "24Fsah1tUsLQ"
    },
    {
      "cell_type": "code",
      "source": [
        "tx = tuple('abcde')"
      ],
      "metadata": {
        "id": "ee5XEN0pUgIF"
      },
      "id": "ee5XEN0pUgIF",
      "execution_count": 35,
      "outputs": []
    },
    {
      "cell_type": "code",
      "source": [
        "tx"
      ],
      "metadata": {
        "colab": {
          "base_uri": "https://localhost:8080/"
        },
        "id": "9pJ3XpEFUwa6",
        "outputId": "a2bd2f55-3b44-4425-aacd-7db32a48960e"
      },
      "id": "9pJ3XpEFUwa6",
      "execution_count": 36,
      "outputs": [
        {
          "output_type": "execute_result",
          "data": {
            "text/plain": [
              "('a', 'b', 'c', 'd', 'e')"
            ]
          },
          "metadata": {},
          "execution_count": 36
        }
      ]
    },
    {
      "cell_type": "code",
      "source": [
        "type(tx)"
      ],
      "metadata": {
        "colab": {
          "base_uri": "https://localhost:8080/"
        },
        "id": "mMSe4hRhUxUW",
        "outputId": "76df95a5-43d8-4eb6-c738-a1c27e0fb922"
      },
      "id": "mMSe4hRhUxUW",
      "execution_count": 37,
      "outputs": [
        {
          "output_type": "execute_result",
          "data": {
            "text/plain": [
              "tuple"
            ]
          },
          "metadata": {},
          "execution_count": 37
        }
      ]
    },
    {
      "cell_type": "code",
      "source": [
        "tx[0]"
      ],
      "metadata": {
        "colab": {
          "base_uri": "https://localhost:8080/",
          "height": 36
        },
        "id": "WO1yHaZGU2XM",
        "outputId": "60b2923d-f8bd-48ee-d95d-beefdda485e5"
      },
      "id": "WO1yHaZGU2XM",
      "execution_count": 38,
      "outputs": [
        {
          "output_type": "execute_result",
          "data": {
            "text/plain": [
              "'a'"
            ],
            "application/vnd.google.colaboratory.intrinsic+json": {
              "type": "string"
            }
          },
          "metadata": {},
          "execution_count": 38
        }
      ]
    },
    {
      "cell_type": "code",
      "source": [
        "tx[-1]"
      ],
      "metadata": {
        "colab": {
          "base_uri": "https://localhost:8080/",
          "height": 36
        },
        "id": "IXNM-mBAU90O",
        "outputId": "0859433a-f7b3-4f2e-8530-28f2c9fbe129"
      },
      "id": "IXNM-mBAU90O",
      "execution_count": 39,
      "outputs": [
        {
          "output_type": "execute_result",
          "data": {
            "text/plain": [
              "'e'"
            ],
            "application/vnd.google.colaboratory.intrinsic+json": {
              "type": "string"
            }
          },
          "metadata": {},
          "execution_count": 39
        }
      ]
    },
    {
      "cell_type": "code",
      "source": [
        "tx[1:3]"
      ],
      "metadata": {
        "colab": {
          "base_uri": "https://localhost:8080/"
        },
        "id": "GX9fyJRcU-2x",
        "outputId": "89f9e59f-6cae-4c49-b8d5-8932d6e81ea8"
      },
      "id": "GX9fyJRcU-2x",
      "execution_count": 40,
      "outputs": [
        {
          "output_type": "execute_result",
          "data": {
            "text/plain": [
              "('b', 'c')"
            ]
          },
          "metadata": {},
          "execution_count": 40
        }
      ]
    },
    {
      "cell_type": "code",
      "source": [
        "tx[:3]"
      ],
      "metadata": {
        "colab": {
          "base_uri": "https://localhost:8080/"
        },
        "id": "WE6hdz8fVBEH",
        "outputId": "2e578305-7238-42db-9e70-de97e94d1bbf"
      },
      "id": "WE6hdz8fVBEH",
      "execution_count": 41,
      "outputs": [
        {
          "output_type": "execute_result",
          "data": {
            "text/plain": [
              "('a', 'b', 'c')"
            ]
          },
          "metadata": {},
          "execution_count": 41
        }
      ]
    },
    {
      "cell_type": "code",
      "source": [
        "tx[-3:]"
      ],
      "metadata": {
        "colab": {
          "base_uri": "https://localhost:8080/"
        },
        "id": "QQD-iruzVCxq",
        "outputId": "c9d5ad14-e54a-4f25-ebb9-37ca5cc9e065"
      },
      "id": "QQD-iruzVCxq",
      "execution_count": 42,
      "outputs": [
        {
          "output_type": "execute_result",
          "data": {
            "text/plain": [
              "('c', 'd', 'e')"
            ]
          },
          "metadata": {},
          "execution_count": 42
        }
      ]
    },
    {
      "cell_type": "code",
      "source": [],
      "metadata": {
        "id": "DktNPVV_VDtj"
      },
      "id": "DktNPVV_VDtj",
      "execution_count": null,
      "outputs": []
    }
  ],
  "metadata": {
    "kernelspec": {
      "display_name": "Python 3 (ipykernel)",
      "language": "python",
      "name": "python3"
    },
    "language_info": {
      "codemirror_mode": {
        "name": "ipython",
        "version": 3
      },
      "file_extension": ".py",
      "mimetype": "text/x-python",
      "name": "python",
      "nbconvert_exporter": "python",
      "pygments_lexer": "ipython3",
      "version": "3.11.5"
    },
    "colab": {
      "provenance": []
    }
  },
  "nbformat": 4,
  "nbformat_minor": 5
}